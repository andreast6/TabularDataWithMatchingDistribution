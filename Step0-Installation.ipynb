{
 "cells": [
  {
   "cell_type": "code",
   "execution_count": 1,
   "id": "ccb5decc-7c90-4752-a044-1489bf0eee85",
   "metadata": {},
   "outputs": [
    {
     "name": "stdout",
     "output_type": "stream",
     "text": [
      "Requirement already satisfied: hvplot==0.11.2 in /home/cdsw/.local/lib/python3.10/site-packages (0.11.2)\n",
      "Requirement already satisfied: bokeh>=3.1 in /home/cdsw/.local/lib/python3.10/site-packages (from hvplot==0.11.2) (3.7.2)\n",
      "Requirement already satisfied: colorcet>=2 in /home/cdsw/.local/lib/python3.10/site-packages (from hvplot==0.11.2) (3.1.0)\n",
      "Requirement already satisfied: holoviews>=1.19.0 in /home/cdsw/.local/lib/python3.10/site-packages (from hvplot==0.11.2) (1.20.2)\n",
      "Requirement already satisfied: numpy>=1.21 in /usr/local/lib/python3.10/site-packages (from hvplot==0.11.2) (1.26.4)\n",
      "Requirement already satisfied: packaging in /usr/local/lib/python3.10/site-packages (from hvplot==0.11.2) (23.2)\n",
      "Requirement already satisfied: pandas>=1.3 in /usr/local/lib/python3.10/site-packages (from hvplot==0.11.2) (2.1.4)\n",
      "Requirement already satisfied: panel>=1.0 in /home/cdsw/.local/lib/python3.10/site-packages (from hvplot==0.11.2) (1.6.3)\n",
      "Requirement already satisfied: param<3.0,>=1.12.0 in /home/cdsw/.local/lib/python3.10/site-packages (from hvplot==0.11.2) (2.2.0)\n",
      "Requirement already satisfied: Jinja2>=2.9 in /usr/local/lib/python3.10/site-packages (from bokeh>=3.1->hvplot==0.11.2) (3.1.5)\n",
      "Requirement already satisfied: contourpy>=1.2 in /home/cdsw/.local/lib/python3.10/site-packages (from bokeh>=3.1->hvplot==0.11.2) (1.3.2)\n",
      "Requirement already satisfied: narwhals>=1.13 in /home/cdsw/.local/lib/python3.10/site-packages (from bokeh>=3.1->hvplot==0.11.2) (1.38.0)\n",
      "Requirement already satisfied: pillow>=7.1.0 in /usr/local/lib/python3.10/site-packages (from bokeh>=3.1->hvplot==0.11.2) (10.3.0)\n",
      "Requirement already satisfied: PyYAML>=3.10 in /usr/local/lib/python3.10/site-packages (from bokeh>=3.1->hvplot==0.11.2) (6.0)\n",
      "Requirement already satisfied: tornado>=6.2 in /usr/local/lib/python3.10/site-packages (from bokeh>=3.1->hvplot==0.11.2) (6.4.2)\n",
      "Requirement already satisfied: xyzservices>=2021.09.1 in /home/cdsw/.local/lib/python3.10/site-packages (from bokeh>=3.1->hvplot==0.11.2) (2025.4.0)\n",
      "Requirement already satisfied: pyviz-comms>=2.1 in /home/cdsw/.local/lib/python3.10/site-packages (from holoviews>=1.19.0->hvplot==0.11.2) (3.0.4)\n",
      "Requirement already satisfied: python-dateutil>=2.8.2 in /usr/local/lib/python3.10/site-packages (from pandas>=1.3->hvplot==0.11.2) (2.8.2)\n",
      "Requirement already satisfied: pytz>=2020.1 in /usr/local/lib/python3.10/site-packages (from pandas>=1.3->hvplot==0.11.2) (2023.3.post1)\n",
      "Requirement already satisfied: tzdata>=2022.1 in /usr/local/lib/python3.10/site-packages (from pandas>=1.3->hvplot==0.11.2) (2023.3)\n",
      "Requirement already satisfied: bleach in /usr/local/lib/python3.10/site-packages (from panel>=1.0->hvplot==0.11.2) (6.0.0)\n",
      "Requirement already satisfied: linkify-it-py in /home/cdsw/.local/lib/python3.10/site-packages (from panel>=1.0->hvplot==0.11.2) (2.0.3)\n",
      "Requirement already satisfied: markdown in /home/cdsw/.local/lib/python3.10/site-packages (from panel>=1.0->hvplot==0.11.2) (3.8)\n",
      "Requirement already satisfied: markdown-it-py in /home/cdsw/.local/lib/python3.10/site-packages (from panel>=1.0->hvplot==0.11.2) (3.0.0)\n",
      "Requirement already satisfied: mdit-py-plugins in /home/cdsw/.local/lib/python3.10/site-packages (from panel>=1.0->hvplot==0.11.2) (0.4.2)\n",
      "Requirement already satisfied: requests in /usr/local/lib/python3.10/site-packages (from panel>=1.0->hvplot==0.11.2) (2.32.3)\n",
      "Requirement already satisfied: tqdm in /home/cdsw/.local/lib/python3.10/site-packages (from panel>=1.0->hvplot==0.11.2) (4.67.1)\n",
      "Requirement already satisfied: typing-extensions in /usr/local/lib/python3.10/site-packages (from panel>=1.0->hvplot==0.11.2) (4.12.2)\n",
      "Requirement already satisfied: MarkupSafe>=2.0 in /usr/local/lib/python3.10/site-packages (from Jinja2>=2.9->bokeh>=3.1->hvplot==0.11.2) (2.1.2)\n",
      "Requirement already satisfied: six>=1.5 in /usr/local/lib/python3.10/site-packages (from python-dateutil>=2.8.2->pandas>=1.3->hvplot==0.11.2) (1.16.0)\n",
      "Requirement already satisfied: webencodings in /usr/local/lib/python3.10/site-packages (from bleach->panel>=1.0->hvplot==0.11.2) (0.5.1)\n",
      "Requirement already satisfied: uc-micro-py in /home/cdsw/.local/lib/python3.10/site-packages (from linkify-it-py->panel>=1.0->hvplot==0.11.2) (1.0.3)\n",
      "Requirement already satisfied: mdurl~=0.1 in /home/cdsw/.local/lib/python3.10/site-packages (from markdown-it-py->panel>=1.0->hvplot==0.11.2) (0.1.2)\n",
      "Requirement already satisfied: charset-normalizer<4,>=2 in /usr/local/lib/python3.10/site-packages (from requests->panel>=1.0->hvplot==0.11.2) (3.3.2)\n",
      "Requirement already satisfied: idna<4,>=2.5 in /usr/local/lib/python3.10/site-packages (from requests->panel>=1.0->hvplot==0.11.2) (3.7)\n",
      "Requirement already satisfied: urllib3<3,>=1.21.1 in /usr/local/lib/python3.10/site-packages (from requests->panel>=1.0->hvplot==0.11.2) (2.2.2)\n",
      "Requirement already satisfied: certifi>=2017.4.17 in /usr/local/lib/python3.10/site-packages (from requests->panel>=1.0->hvplot==0.11.2) (2024.7.4)\n",
      "Requirement already satisfied: scikit-learn==1.6.1 in /home/cdsw/.local/lib/python3.10/site-packages (1.6.1)\n",
      "Requirement already satisfied: numpy>=1.19.5 in /usr/local/lib/python3.10/site-packages (from scikit-learn==1.6.1) (1.26.4)\n",
      "Requirement already satisfied: scipy>=1.6.0 in /home/cdsw/.local/lib/python3.10/site-packages (from scikit-learn==1.6.1) (1.15.2)\n",
      "Requirement already satisfied: joblib>=1.2.0 in /home/cdsw/.local/lib/python3.10/site-packages (from scikit-learn==1.6.1) (1.5.0)\n",
      "Requirement already satisfied: threadpoolctl>=3.1.0 in /home/cdsw/.local/lib/python3.10/site-packages (from scikit-learn==1.6.1) (3.6.0)\n",
      "Collecting seaborn==0.13.2\n",
      "  Downloading seaborn-0.13.2-py3-none-any.whl.metadata (5.4 kB)\n",
      "Requirement already satisfied: numpy!=1.24.0,>=1.20 in /usr/local/lib/python3.10/site-packages (from seaborn==0.13.2) (1.26.4)\n",
      "Requirement already satisfied: pandas>=1.2 in /usr/local/lib/python3.10/site-packages (from seaborn==0.13.2) (2.1.4)\n",
      "Requirement already satisfied: matplotlib!=3.6.1,>=3.4 in /usr/local/lib/python3.10/site-packages (from seaborn==0.13.2) (3.7.0)\n",
      "Requirement already satisfied: contourpy>=1.0.1 in /home/cdsw/.local/lib/python3.10/site-packages (from matplotlib!=3.6.1,>=3.4->seaborn==0.13.2) (1.3.2)\n",
      "Requirement already satisfied: cycler>=0.10 in /usr/local/lib/python3.10/site-packages (from matplotlib!=3.6.1,>=3.4->seaborn==0.13.2) (0.11.0)\n",
      "Requirement already satisfied: fonttools>=4.22.0 in /usr/local/lib/python3.10/site-packages (from matplotlib!=3.6.1,>=3.4->seaborn==0.13.2) (4.43.0)\n",
      "Requirement already satisfied: kiwisolver>=1.0.1 in /usr/local/lib/python3.10/site-packages (from matplotlib!=3.6.1,>=3.4->seaborn==0.13.2) (1.4.4)\n",
      "Requirement already satisfied: packaging>=20.0 in /usr/local/lib/python3.10/site-packages (from matplotlib!=3.6.1,>=3.4->seaborn==0.13.2) (23.2)\n",
      "Requirement already satisfied: pillow>=6.2.0 in /usr/local/lib/python3.10/site-packages (from matplotlib!=3.6.1,>=3.4->seaborn==0.13.2) (10.3.0)\n",
      "Requirement already satisfied: pyparsing>=2.3.1 in /usr/local/lib/python3.10/site-packages (from matplotlib!=3.6.1,>=3.4->seaborn==0.13.2) (3.0.9)\n",
      "Requirement already satisfied: python-dateutil>=2.7 in /usr/local/lib/python3.10/site-packages (from matplotlib!=3.6.1,>=3.4->seaborn==0.13.2) (2.8.2)\n",
      "Requirement already satisfied: pytz>=2020.1 in /usr/local/lib/python3.10/site-packages (from pandas>=1.2->seaborn==0.13.2) (2023.3.post1)\n",
      "Requirement already satisfied: tzdata>=2022.1 in /usr/local/lib/python3.10/site-packages (from pandas>=1.2->seaborn==0.13.2) (2023.3)\n",
      "Requirement already satisfied: six>=1.5 in /usr/local/lib/python3.10/site-packages (from python-dateutil>=2.7->matplotlib!=3.6.1,>=3.4->seaborn==0.13.2) (1.16.0)\n",
      "Downloading seaborn-0.13.2-py3-none-any.whl (294 kB)\n",
      "Installing collected packages: seaborn\n",
      "Successfully installed seaborn-0.13.2\n",
      "Requirement already satisfied: scipy==1.15.2 in /home/cdsw/.local/lib/python3.10/site-packages (1.15.2)\n",
      "Requirement already satisfied: numpy<2.5,>=1.23.5 in /usr/local/lib/python3.10/site-packages (from scipy==1.15.2) (1.26.4)\n",
      "Requirement already satisfied: matplotlib==3.7.0 in /usr/local/lib/python3.10/site-packages (3.7.0)\n",
      "Requirement already satisfied: contourpy>=1.0.1 in /home/cdsw/.local/lib/python3.10/site-packages (from matplotlib==3.7.0) (1.3.2)\n",
      "Requirement already satisfied: cycler>=0.10 in /usr/local/lib/python3.10/site-packages (from matplotlib==3.7.0) (0.11.0)\n",
      "Requirement already satisfied: fonttools>=4.22.0 in /usr/local/lib/python3.10/site-packages (from matplotlib==3.7.0) (4.43.0)\n",
      "Requirement already satisfied: kiwisolver>=1.0.1 in /usr/local/lib/python3.10/site-packages (from matplotlib==3.7.0) (1.4.4)\n",
      "Requirement already satisfied: numpy>=1.20 in /usr/local/lib/python3.10/site-packages (from matplotlib==3.7.0) (1.26.4)\n",
      "Requirement already satisfied: packaging>=20.0 in /usr/local/lib/python3.10/site-packages (from matplotlib==3.7.0) (23.2)\n",
      "Requirement already satisfied: pillow>=6.2.0 in /usr/local/lib/python3.10/site-packages (from matplotlib==3.7.0) (10.3.0)\n",
      "Requirement already satisfied: pyparsing>=2.3.1 in /usr/local/lib/python3.10/site-packages (from matplotlib==3.7.0) (3.0.9)\n",
      "Requirement already satisfied: python-dateutil>=2.7 in /usr/local/lib/python3.10/site-packages (from matplotlib==3.7.0) (2.8.2)\n",
      "Requirement already satisfied: six>=1.5 in /usr/local/lib/python3.10/site-packages (from python-dateutil>=2.7->matplotlib==3.7.0) (1.16.0)\n"
     ]
    }
   ],
   "source": [
    "!pip install hvplot==0.11.2\n",
    "!pip install scikit-learn==1.6.1\n",
    "!pip install seaborn==0.13.2\n",
    "!pip install scipy==1.15.2\n",
    "!pip install matplotlib==3.7.0\n"
   ]
  },
  {
   "cell_type": "code",
   "execution_count": null,
   "id": "f22bfd4e-16a1-413a-9bfc-f82ef24857f4",
   "metadata": {},
   "outputs": [],
   "source": []
  }
 ],
 "metadata": {
  "kernelspec": {
   "display_name": "Python 3 (ipykernel)",
   "language": "python",
   "name": "python3"
  },
  "language_info": {
   "codemirror_mode": {
    "name": "ipython",
    "version": 3
   },
   "file_extension": ".py",
   "mimetype": "text/x-python",
   "name": "python",
   "nbconvert_exporter": "python",
   "pygments_lexer": "ipython3",
   "version": "3.10.16"
  }
 },
 "nbformat": 4,
 "nbformat_minor": 5
}
